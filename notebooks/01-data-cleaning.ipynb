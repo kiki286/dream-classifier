{
 "cells": [
  {
   "cell_type": "code",
   "execution_count": null,
   "id": "5655f410",
   "metadata": {},
   "outputs": [
    {
     "ename": "FileNotFoundError",
     "evalue": "[WinError 3] The system cannot find the path specified: 'data/raw/'",
     "output_type": "error",
     "traceback": [
      "\u001b[1;31m---------------------------------------------------------------------------\u001b[0m",
      "\u001b[1;31mFileNotFoundError\u001b[0m                         Traceback (most recent call last)",
      "Cell \u001b[1;32mIn[1], line 26\u001b[0m\n\u001b[0;32m     23\u001b[0m json_dir \u001b[38;5;241m=\u001b[39m \u001b[38;5;124m\"\u001b[39m\u001b[38;5;124mdata/raw/\u001b[39m\u001b[38;5;124m\"\u001b[39m  \n\u001b[0;32m     25\u001b[0m dreams \u001b[38;5;241m=\u001b[39m []\n\u001b[1;32m---> 26\u001b[0m \u001b[38;5;28;01mfor\u001b[39;00m filename \u001b[38;5;129;01min\u001b[39;00m \u001b[43mos\u001b[49m\u001b[38;5;241;43m.\u001b[39;49m\u001b[43mlistdir\u001b[49m\u001b[43m(\u001b[49m\u001b[43mjson_dir\u001b[49m\u001b[43m)\u001b[49m:\n\u001b[0;32m     27\u001b[0m     \u001b[38;5;28;01mif\u001b[39;00m filename\u001b[38;5;241m.\u001b[39mendswith(\u001b[38;5;124m\"\u001b[39m\u001b[38;5;124m.json\u001b[39m\u001b[38;5;124m\"\u001b[39m):\n\u001b[0;32m     28\u001b[0m         \u001b[38;5;28;01mwith\u001b[39;00m \u001b[38;5;28mopen\u001b[39m(os\u001b[38;5;241m.\u001b[39mpath\u001b[38;5;241m.\u001b[39mjoin(json_dir, filename), \u001b[38;5;124m\"\u001b[39m\u001b[38;5;124mr\u001b[39m\u001b[38;5;124m\"\u001b[39m, encoding\u001b[38;5;241m=\u001b[39m\u001b[38;5;124m\"\u001b[39m\u001b[38;5;124mutf-8\u001b[39m\u001b[38;5;124m\"\u001b[39m) \u001b[38;5;28;01mas\u001b[39;00m f:\n",
      "\u001b[1;31mFileNotFoundError\u001b[0m: [WinError 3] The system cannot find the path specified: 'data/raw/'"
     ]
    }
   ],
   "source": [
    "import os\n",
    "import json\n",
    "import pandas as pd\n",
    "from datetime import datetime\n",
    "from dateutil import parser\n",
    "import re\n",
    "import numpy as np\n",
    "from google.colab import drive\n",
    "drive.mount('/content/drive')\n",
    "\n",
    "def parse_date_flexibly(date_str):\n",
    "    if pd.isna(date_str) or not str(date_str).strip():\n",
    "        return pd.NaT\n",
    "    try:\n",
    "        return parser.parse(date_str, fuzzy=True, default=pd.Timestamp(\"1900-01-01\"))\n",
    "    except Exception:\n",
    "        return pd.NaT\n",
    "\n",
    "def extract_year_if_possible(date_str):\n",
    "    match = re.search(r\"(19|20)\\d{2}\", str(date_str))\n",
    "    if match:\n",
    "        return int(match.group(0))\n",
    "    return np.nan\n",
    "\n",
    "json_dir = \"/content/drive/MyDrive/dreams\" # Adjust this path as needed\n",
    "\n",
    "dreams = []\n",
    "for filename in os.listdir(json_dir):\n",
    "    if filename.endswith(\".json\"):\n",
    "        with open(os.path.join(json_dir, filename), \"r\", encoding=\"utf-8\") as f:\n",
    "            try:\n",
    "                data = json.load(f)\n",
    "                dreamer = data.get(\"dreamer\", \"unknown\")\n",
    "                description = data.get(\"description\", \"\")\n",
    "                for entry in data.get(\"dreams\", []):\n",
    "                    dreams.append({\n",
    "                        \"dream_id\": f\"{dreamer}_{entry.get('number')}\",\n",
    "                        \"dreamer\": dreamer,\n",
    "                        \"number\": entry.get(\"number\"),\n",
    "                        \"description\": description,\n",
    "                        \"date_raw\": entry.get(\"head\"),\n",
    "                        \"content\": entry.get(\"content\")\n",
    "                    })\n",
    "            except Exception as e:\n",
    "                print(f\"Error parsing {filename}: {e}\")\n",
    "\n",
    "df = pd.DataFrame(dreams)\n",
    "df[\"text_clean\"] = df[\"content\"].str.replace(r\"\\s+\", \" \", regex=True).str.strip()\n",
    "df[\"date_parsed\"] = df[\"date_raw\"].apply(parse_date_flexibly)\n",
    "df[\"year\"] = df[\"date_raw\"].apply(extract_year_if_possible)\n",
    "\n",
    "# Save\n",
    "os.makedirs(\"data/processed\", exist_ok=True)\n",
    "df.to_csv(\"data/processed/cleaned_dreams.csv\", index=False)\n",
    "\n",
    "df.head()\n"
   ]
  }
 ],
 "metadata": {
  "kernelspec": {
   "display_name": "Python 3",
   "language": "python",
   "name": "python3"
  },
  "language_info": {
   "codemirror_mode": {
    "name": "ipython",
    "version": 3
   },
   "file_extension": ".py",
   "mimetype": "text/x-python",
   "name": "python",
   "nbconvert_exporter": "python",
   "pygments_lexer": "ipython3",
   "version": "3.8.10"
  }
 },
 "nbformat": 4,
 "nbformat_minor": 5
}
